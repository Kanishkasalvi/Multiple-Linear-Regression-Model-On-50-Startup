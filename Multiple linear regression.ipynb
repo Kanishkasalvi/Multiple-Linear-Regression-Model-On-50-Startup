{
 "cells": [
  {
   "cell_type": "markdown",
   "id": "f07e3d43-7d90-4aea-a9c0-22213100bf18",
   "metadata": {},
   "source": [
    "##                               Multiple Linear Regression Model On 50-Startup"
   ]
  },
  {
   "cell_type": "markdown",
   "id": "463a68d0-06f1-488c-8ddc-c3bb15af820b",
   "metadata": {},
   "source": [
    "## Goal:-¶\n",
    "To predict whether a particular startup would be safe to invest in or not."
   ]
  },
  {
   "cell_type": "markdown",
   "id": "e323f2c2-5b55-4ec8-84a3-43427790a9c5",
   "metadata": {},
   "source": [
    "## -----------------------------Importing Libraries------------------------------"
   ]
  },
  {
   "cell_type": "code",
   "execution_count": 6,
   "id": "97882d8c-2369-4b0a-a542-5f31b3fa6df2",
   "metadata": {},
   "outputs": [],
   "source": [
    "import pandas as pd   \n",
    "import numpy as np    \n",
    "import matplotlib.pyplot as plt  \n",
    "import seaborn as sns  \n",
    "from sklearn.model_selection import train_test_split  \n",
    "from sklearn.linear_model import LinearRegression  \n",
    "from sklearn.metrics import mean_squared_error, r2_score "
   ]
  },
  {
   "cell_type": "markdown",
   "id": "ec1bb2d2-ec2a-4c70-8a0b-d8d47edc14fc",
   "metadata": {},
   "source": [
    "## ---------------------------Loading the Dataset-------------------------"
   ]
  },
  {
   "cell_type": "code",
   "execution_count": 13,
   "id": "26e65a65-b21a-4e42-b63e-e71c0eabcdd9",
   "metadata": {},
   "outputs": [],
   "source": [
    "df =  pd.read_csv(r\"C:\\Users\\salvi\\Downloads\\archive (1)\\50_Startups.csv\")"
   ]
  },
  {
   "cell_type": "code",
   "execution_count": 15,
   "id": "0766c1dc-c11a-4b87-9f5a-e89da8e2517c",
   "metadata": {},
   "outputs": [
    {
     "data": {
      "text/html": [
       "<div>\n",
       "<style scoped>\n",
       "    .dataframe tbody tr th:only-of-type {\n",
       "        vertical-align: middle;\n",
       "    }\n",
       "\n",
       "    .dataframe tbody tr th {\n",
       "        vertical-align: top;\n",
       "    }\n",
       "\n",
       "    .dataframe thead th {\n",
       "        text-align: right;\n",
       "    }\n",
       "</style>\n",
       "<table border=\"1\" class=\"dataframe\">\n",
       "  <thead>\n",
       "    <tr style=\"text-align: right;\">\n",
       "      <th></th>\n",
       "      <th>R&amp;D Spend</th>\n",
       "      <th>Administration</th>\n",
       "      <th>Marketing Spend</th>\n",
       "      <th>State</th>\n",
       "      <th>Profit</th>\n",
       "    </tr>\n",
       "  </thead>\n",
       "  <tbody>\n",
       "    <tr>\n",
       "      <th>0</th>\n",
       "      <td>165349.20</td>\n",
       "      <td>136897.80</td>\n",
       "      <td>471784.10</td>\n",
       "      <td>New York</td>\n",
       "      <td>192261.83</td>\n",
       "    </tr>\n",
       "    <tr>\n",
       "      <th>1</th>\n",
       "      <td>162597.70</td>\n",
       "      <td>151377.59</td>\n",
       "      <td>443898.53</td>\n",
       "      <td>California</td>\n",
       "      <td>191792.06</td>\n",
       "    </tr>\n",
       "    <tr>\n",
       "      <th>2</th>\n",
       "      <td>153441.51</td>\n",
       "      <td>101145.55</td>\n",
       "      <td>407934.54</td>\n",
       "      <td>Florida</td>\n",
       "      <td>191050.39</td>\n",
       "    </tr>\n",
       "    <tr>\n",
       "      <th>3</th>\n",
       "      <td>144372.41</td>\n",
       "      <td>118671.85</td>\n",
       "      <td>383199.62</td>\n",
       "      <td>New York</td>\n",
       "      <td>182901.99</td>\n",
       "    </tr>\n",
       "    <tr>\n",
       "      <th>4</th>\n",
       "      <td>142107.34</td>\n",
       "      <td>91391.77</td>\n",
       "      <td>366168.42</td>\n",
       "      <td>Florida</td>\n",
       "      <td>166187.94</td>\n",
       "    </tr>\n",
       "  </tbody>\n",
       "</table>\n",
       "</div>"
      ],
      "text/plain": [
       "   R&D Spend  Administration  Marketing Spend       State     Profit\n",
       "0  165349.20       136897.80        471784.10    New York  192261.83\n",
       "1  162597.70       151377.59        443898.53  California  191792.06\n",
       "2  153441.51       101145.55        407934.54     Florida  191050.39\n",
       "3  144372.41       118671.85        383199.62    New York  182901.99\n",
       "4  142107.34        91391.77        366168.42     Florida  166187.94"
      ]
     },
     "execution_count": 15,
     "metadata": {},
     "output_type": "execute_result"
    }
   ],
   "source": [
    "df.head()"
   ]
  },
  {
   "cell_type": "markdown",
   "id": "ee9c3c44-804a-4f38-a82b-bbce77b4bd9f",
   "metadata": {},
   "source": [
    "## ----------------------------Exploring the Dataset-----------------------"
   ]
  },
  {
   "cell_type": "code",
   "execution_count": 18,
   "id": "2c285acd-d840-4d55-aa8a-ec1a23b3acc0",
   "metadata": {},
   "outputs": [
    {
     "name": "stdout",
     "output_type": "stream",
     "text": [
      "Shape of the dataset: (50, 5)\n"
     ]
    }
   ],
   "source": [
    "\n",
    "print(\"Shape of the dataset:\", df.shape)"
   ]
  },
  {
   "cell_type": "code",
   "execution_count": 20,
   "id": "baa48f5b-59de-4fcc-9fc3-06819203c4a0",
   "metadata": {},
   "outputs": [
    {
     "name": "stdout",
     "output_type": "stream",
     "text": [
      "Missing values:\n",
      " R&D Spend          0\n",
      "Administration     0\n",
      "Marketing Spend    0\n",
      "State              0\n",
      "Profit             0\n",
      "dtype: int64\n"
     ]
    }
   ],
   "source": [
    "print(\"Missing values:\\n\", df.isnull().sum())"
   ]
  },
  {
   "cell_type": "code",
   "execution_count": 22,
   "id": "b845fe31-f0b2-425c-b557-c71ef205d720",
   "metadata": {},
   "outputs": [
    {
     "name": "stdout",
     "output_type": "stream",
     "text": [
      "Descriptive statistics:\n",
      "            R&D Spend  Administration  Marketing Spend         Profit\n",
      "count      50.000000       50.000000        50.000000      50.000000\n",
      "mean    73721.615600   121344.639600    211025.097800  112012.639200\n",
      "std     45902.256482    28017.802755    122290.310726   40306.180338\n",
      "min         0.000000    51283.140000         0.000000   14681.400000\n",
      "25%     39936.370000   103730.875000    129300.132500   90138.902500\n",
      "50%     73051.080000   122699.795000    212716.240000  107978.190000\n",
      "75%    101602.800000   144842.180000    299469.085000  139765.977500\n",
      "max    165349.200000   182645.560000    471784.100000  192261.830000\n"
     ]
    }
   ],
   "source": [
    "print(\"Descriptive statistics:\\n\", df.describe())"
   ]
  },
  {
   "cell_type": "code",
   "execution_count": 24,
   "id": "6baf6aae-d969-429d-a70a-e3406eb64171",
   "metadata": {},
   "outputs": [
    {
     "name": "stdout",
     "output_type": "stream",
     "text": [
      "Data types:\n",
      " R&D Spend          float64\n",
      "Administration     float64\n",
      "Marketing Spend    float64\n",
      "State               object\n",
      "Profit             float64\n",
      "dtype: object\n"
     ]
    }
   ],
   "source": [
    "print(\"Data types:\\n\", df.dtypes)"
   ]
  },
  {
   "cell_type": "markdown",
   "id": "3f943249-0585-4fab-9915-9fcf6714ca60",
   "metadata": {},
   "source": [
    "## ------------------------Data Preprocessing--------------------------"
   ]
  },
  {
   "cell_type": "code",
   "execution_count": 27,
   "id": "5fdec23e-529a-4682-9a27-6bd4ccf12432",
   "metadata": {},
   "outputs": [],
   "source": [
    "# One-hot encoding for categorical variable \"State\"\n",
    "df = pd.get_dummies(df, drop_first=True)\n",
    "\n",
    "# Define features (X) and target variable (y)\n",
    "X = df.drop('Profit', axis=1)  # Features\n",
    "y = df['Profit']  # Target variable"
   ]
  },
  {
   "cell_type": "markdown",
   "id": "b432e632-6f19-41ac-8f26-7bfad1f6bc2f",
   "metadata": {},
   "source": [
    "## ----------------------Splitting the Dataset------------------------"
   ]
  },
  {
   "cell_type": "code",
   "execution_count": 30,
   "id": "46bf928d-dd54-4ce8-9fb2-0cf421109f9b",
   "metadata": {},
   "outputs": [
    {
     "name": "stdout",
     "output_type": "stream",
     "text": [
      "Training set shape: (40, 5)\n",
      "Testing set shape: (10, 5)\n"
     ]
    }
   ],
   "source": [
    "X_train, X_test, y_train, y_test = train_test_split(X, y, test_size=0.2, random_state=42)\n",
    "\n",
    "# Check the shape of the training and testing sets\n",
    "print(\"Training set shape:\", X_train.shape)\n",
    "print(\"Testing set shape:\", X_test.shape)"
   ]
  },
  {
   "cell_type": "markdown",
   "id": "2dbba2c1-127e-4055-8ba4-763b0512c01e",
   "metadata": {},
   "source": [
    "## -----------------------Building the Model------------------------"
   ]
  },
  {
   "cell_type": "code",
   "execution_count": 33,
   "id": "df32a9c7-6af5-4cb1-9322-c5f39df32e0e",
   "metadata": {},
   "outputs": [
    {
     "data": {
      "text/html": [
       "<style>#sk-container-id-1 {color: black;background-color: white;}#sk-container-id-1 pre{padding: 0;}#sk-container-id-1 div.sk-toggleable {background-color: white;}#sk-container-id-1 label.sk-toggleable__label {cursor: pointer;display: block;width: 100%;margin-bottom: 0;padding: 0.3em;box-sizing: border-box;text-align: center;}#sk-container-id-1 label.sk-toggleable__label-arrow:before {content: \"▸\";float: left;margin-right: 0.25em;color: #696969;}#sk-container-id-1 label.sk-toggleable__label-arrow:hover:before {color: black;}#sk-container-id-1 div.sk-estimator:hover label.sk-toggleable__label-arrow:before {color: black;}#sk-container-id-1 div.sk-toggleable__content {max-height: 0;max-width: 0;overflow: hidden;text-align: left;background-color: #f0f8ff;}#sk-container-id-1 div.sk-toggleable__content pre {margin: 0.2em;color: black;border-radius: 0.25em;background-color: #f0f8ff;}#sk-container-id-1 input.sk-toggleable__control:checked~div.sk-toggleable__content {max-height: 200px;max-width: 100%;overflow: auto;}#sk-container-id-1 input.sk-toggleable__control:checked~label.sk-toggleable__label-arrow:before {content: \"▾\";}#sk-container-id-1 div.sk-estimator input.sk-toggleable__control:checked~label.sk-toggleable__label {background-color: #d4ebff;}#sk-container-id-1 div.sk-label input.sk-toggleable__control:checked~label.sk-toggleable__label {background-color: #d4ebff;}#sk-container-id-1 input.sk-hidden--visually {border: 0;clip: rect(1px 1px 1px 1px);clip: rect(1px, 1px, 1px, 1px);height: 1px;margin: -1px;overflow: hidden;padding: 0;position: absolute;width: 1px;}#sk-container-id-1 div.sk-estimator {font-family: monospace;background-color: #f0f8ff;border: 1px dotted black;border-radius: 0.25em;box-sizing: border-box;margin-bottom: 0.5em;}#sk-container-id-1 div.sk-estimator:hover {background-color: #d4ebff;}#sk-container-id-1 div.sk-parallel-item::after {content: \"\";width: 100%;border-bottom: 1px solid gray;flex-grow: 1;}#sk-container-id-1 div.sk-label:hover label.sk-toggleable__label {background-color: #d4ebff;}#sk-container-id-1 div.sk-serial::before {content: \"\";position: absolute;border-left: 1px solid gray;box-sizing: border-box;top: 0;bottom: 0;left: 50%;z-index: 0;}#sk-container-id-1 div.sk-serial {display: flex;flex-direction: column;align-items: center;background-color: white;padding-right: 0.2em;padding-left: 0.2em;position: relative;}#sk-container-id-1 div.sk-item {position: relative;z-index: 1;}#sk-container-id-1 div.sk-parallel {display: flex;align-items: stretch;justify-content: center;background-color: white;position: relative;}#sk-container-id-1 div.sk-item::before, #sk-container-id-1 div.sk-parallel-item::before {content: \"\";position: absolute;border-left: 1px solid gray;box-sizing: border-box;top: 0;bottom: 0;left: 50%;z-index: -1;}#sk-container-id-1 div.sk-parallel-item {display: flex;flex-direction: column;z-index: 1;position: relative;background-color: white;}#sk-container-id-1 div.sk-parallel-item:first-child::after {align-self: flex-end;width: 50%;}#sk-container-id-1 div.sk-parallel-item:last-child::after {align-self: flex-start;width: 50%;}#sk-container-id-1 div.sk-parallel-item:only-child::after {width: 0;}#sk-container-id-1 div.sk-dashed-wrapped {border: 1px dashed gray;margin: 0 0.4em 0.5em 0.4em;box-sizing: border-box;padding-bottom: 0.4em;background-color: white;}#sk-container-id-1 div.sk-label label {font-family: monospace;font-weight: bold;display: inline-block;line-height: 1.2em;}#sk-container-id-1 div.sk-label-container {text-align: center;}#sk-container-id-1 div.sk-container {/* jupyter's `normalize.less` sets `[hidden] { display: none; }` but bootstrap.min.css set `[hidden] { display: none !important; }` so we also need the `!important` here to be able to override the default hidden behavior on the sphinx rendered scikit-learn.org. See: https://github.com/scikit-learn/scikit-learn/issues/21755 */display: inline-block !important;position: relative;}#sk-container-id-1 div.sk-text-repr-fallback {display: none;}</style><div id=\"sk-container-id-1\" class=\"sk-top-container\"><div class=\"sk-text-repr-fallback\"><pre>LinearRegression()</pre><b>In a Jupyter environment, please rerun this cell to show the HTML representation or trust the notebook. <br />On GitHub, the HTML representation is unable to render, please try loading this page with nbviewer.org.</b></div><div class=\"sk-container\" hidden><div class=\"sk-item\"><div class=\"sk-estimator sk-toggleable\"><input class=\"sk-toggleable__control sk-hidden--visually\" id=\"sk-estimator-id-1\" type=\"checkbox\" checked><label for=\"sk-estimator-id-1\" class=\"sk-toggleable__label sk-toggleable__label-arrow\">LinearRegression</label><div class=\"sk-toggleable__content\"><pre>LinearRegression()</pre></div></div></div></div></div>"
      ],
      "text/plain": [
       "LinearRegression()"
      ]
     },
     "execution_count": 33,
     "metadata": {},
     "output_type": "execute_result"
    }
   ],
   "source": [
    "model = LinearRegression()\n",
    "model.fit(X_train, y_train)"
   ]
  },
  {
   "cell_type": "markdown",
   "id": "85a202a4-3ccc-4edc-bc30-e68dc249b9f3",
   "metadata": {},
   "source": [
    "## ---------------------Making Predictions-------------------"
   ]
  },
  {
   "cell_type": "code",
   "execution_count": 38,
   "id": "43fb3dbb-c361-4b23-984c-688b9b87d651",
   "metadata": {},
   "outputs": [
    {
     "name": "stdout",
     "output_type": "stream",
     "text": [
      "Predictions:\n",
      " [126362.87908255  84608.45383634  99677.49425147  46357.46068582\n",
      " 128750.48288504  50912.4174188  109741.35032702 100643.24281647\n",
      "  97599.27574594 113097.42524432]\n"
     ]
    }
   ],
   "source": [
    "y_pred = model.predict(X_test)\n",
    "\n",
    "print(\"Predictions:\\n\", y_pred)"
   ]
  },
  {
   "cell_type": "markdown",
   "id": "5c7e5514-1833-48b9-85e1-e9e3b00a18db",
   "metadata": {},
   "source": [
    "## -----------------------Evaluating the Model--------------------"
   ]
  },
  {
   "cell_type": "code",
   "execution_count": 41,
   "id": "7b1a0a63-f617-464a-b511-33df4e74c55f",
   "metadata": {},
   "outputs": [
    {
     "name": "stdout",
     "output_type": "stream",
     "text": [
      "Mean Squared Error: 82010363.04430102\n",
      "R-squared: 0.8987266414328637\n"
     ]
    }
   ],
   "source": [
    "# Calculate Mean Squared Error (MSE)\n",
    "mse = mean_squared_error(y_test, y_pred)\n",
    "print(\"Mean Squared Error:\", mse)\n",
    "\n",
    "# Calculate R-squared\n",
    "r2 = r2_score(y_test, y_pred)\n",
    "print(\"R-squared:\", r2)"
   ]
  },
  {
   "cell_type": "markdown",
   "id": "1a48f6aa-f764-4f49-9162-0e00339f2ff5",
   "metadata": {},
   "source": [
    "## -------------------------Visualizing the Results-----------------------"
   ]
  },
  {
   "cell_type": "code",
   "execution_count": 44,
   "id": "ccf7fe67-7173-4caf-9e80-64eed6920088",
   "metadata": {},
   "outputs": [
    {
     "data": {
      "image/png": "[encoded data removed]",
      "text/plain": [
       "<Figure size 1000x600 with 1 Axes>"
      ]
     },
     "metadata": {},
     "output_type": "display_data"
    }
   ],
   "source": [
    "# Plotting the actual vs. predicted values\n",
    "plt.figure(figsize=(10, 6))\n",
    "plt.scatter(y_test, y_pred, color='blue')\n",
    "plt.plot([min(y_test), max(y_test)], [min(y_test), max(y_test)], color='red', linewidth=2)\n",
    "plt.xlabel('Actual Profit')\n",
    "plt.ylabel('Predicted Profit')\n",
    "plt.title('Actual vs Predicted Profit')\n",
    "plt.show()"
   ]
  },
  {
   "cell_type": "code",
   "execution_count": null,
   "id": "01318d78-443b-458d-a2d2-b880195b1035",
   "metadata": {},
   "outputs": [],
   "source": []
  }
 ],
 "metadata": {
  "kernelspec": {
   "display_name": "Python 3 (ipykernel)",
   "language": "python",
   "name": "python3"
  },
  "language_info": {
   "codemirror_mode": {
    "name": "ipython",
    "version": 3
   },
   "file_extension": ".py",
   "mimetype": "text/x-python",
   "name": "python",
   "nbconvert_exporter": "python",
   "pygments_lexer": "ipython3",
   "version": "3.11.7"
  }
 },
 "nbformat": 4,
 "nbformat_minor": 5
}
